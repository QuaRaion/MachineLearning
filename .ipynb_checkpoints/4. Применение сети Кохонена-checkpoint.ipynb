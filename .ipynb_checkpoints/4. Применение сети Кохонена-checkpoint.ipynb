{
 "cells": [
  {
   "cell_type": "markdown",
   "metadata": {},
   "source": [
    "# Самоорганизующиеся карты Кохонена (SOM)"
   ]
  },
  {
   "cell_type": "markdown",
   "metadata": {},
   "source": [
    "### Цель работы"
   ]
  },
  {
   "cell_type": "markdown",
   "metadata": {},
   "source": [
    "Изучить принципы работы самоорганизующихся карт Кохонена (SOM), реализовать модель и провести эксперименты на данных\n",
    "\n",
    "---"
   ]
  },
  {
   "cell_type": "markdown",
   "metadata": {},
   "source": [
    "### Постановка задачи"
   ]
  },
  {
   "cell_type": "markdown",
   "metadata": {},
   "source": [
    "**Кластеризация товаров по характеристикам**\n",
    "\n",
    "Датасет: \"Online Retail\" (данные о продажах интернет-магазина, включая информацию о товарах, количестве покупок и категориях).\n",
    "\n",
    "Задание:\n",
    "1. Ознакомиться с принципами работы SOM.\n",
    "2. Подготовить и предобработать датасет, выявить основные группы товаров по их характеристикам\n",
    "3. Реализовать самоорганизующуюся карту Кохонена размером `10x10`.\n",
    "4. Обучить SOM на выбранном датасете, настроив гиперпараметры (размер шага, радиус соседства).\n",
    "5. Визуализировать результаты в виде топографической карты и цветовой карты кластеров.\n",
    "6. Сравнить кластеры SOM с результатами K-Means кластеризации и оценить качество кластеризации.\n",
    "7. Сделать качественный и количественный вывод по выполненной работе.\n",
    "\n",
    "---"
   ]
  },
  {
   "cell_type": "markdown",
   "metadata": {},
   "source": [
    "## Результат выполнения работы"
   ]
  },
  {
   "cell_type": "markdown",
   "metadata": {},
   "source": [
    "### Выгрузка и анализ данных"
   ]
  },
  {
   "cell_type": "code",
   "execution_count": 1,
   "metadata": {},
   "outputs": [],
   "source": [
    "import numpy as np\n",
    "import pandas as pd\n",
    "import matplotlib.pyplot as plt\n",
    "from sklearn.cluster import KMeans\n",
    "from sklearn.preprocessing import StandardScaler\n",
    "from sklearn.metrics import silhouette_score"
   ]
  },
  {
   "cell_type": "code",
   "execution_count": 2,
   "metadata": {},
   "outputs": [
    {
     "data": {
      "text/html": [
       "<div>\n",
       "<style scoped>\n",
       "    .dataframe tbody tr th:only-of-type {\n",
       "        vertical-align: middle;\n",
       "    }\n",
       "\n",
       "    .dataframe tbody tr th {\n",
       "        vertical-align: top;\n",
       "    }\n",
       "\n",
       "    .dataframe thead th {\n",
       "        text-align: right;\n",
       "    }\n",
       "</style>\n",
       "<table border=\"1\" class=\"dataframe\">\n",
       "  <thead>\n",
       "    <tr style=\"text-align: right;\">\n",
       "      <th></th>\n",
       "      <th>Invoice</th>\n",
       "      <th>StockCode</th>\n",
       "      <th>Description</th>\n",
       "      <th>Quantity</th>\n",
       "      <th>InvoiceDate</th>\n",
       "      <th>Price</th>\n",
       "      <th>Customer ID</th>\n",
       "      <th>Country</th>\n",
       "    </tr>\n",
       "  </thead>\n",
       "  <tbody>\n",
       "    <tr>\n",
       "      <th>0</th>\n",
       "      <td>489434</td>\n",
       "      <td>85048</td>\n",
       "      <td>15CM CHRISTMAS GLASS BALL 20 LIGHTS</td>\n",
       "      <td>12</td>\n",
       "      <td>2009-12-01 07:45:00</td>\n",
       "      <td>6.95</td>\n",
       "      <td>13085.0</td>\n",
       "      <td>United Kingdom</td>\n",
       "    </tr>\n",
       "    <tr>\n",
       "      <th>1</th>\n",
       "      <td>489434</td>\n",
       "      <td>79323P</td>\n",
       "      <td>PINK CHERRY LIGHTS</td>\n",
       "      <td>12</td>\n",
       "      <td>2009-12-01 07:45:00</td>\n",
       "      <td>6.75</td>\n",
       "      <td>13085.0</td>\n",
       "      <td>United Kingdom</td>\n",
       "    </tr>\n",
       "    <tr>\n",
       "      <th>2</th>\n",
       "      <td>489434</td>\n",
       "      <td>79323W</td>\n",
       "      <td>WHITE CHERRY LIGHTS</td>\n",
       "      <td>12</td>\n",
       "      <td>2009-12-01 07:45:00</td>\n",
       "      <td>6.75</td>\n",
       "      <td>13085.0</td>\n",
       "      <td>United Kingdom</td>\n",
       "    </tr>\n",
       "    <tr>\n",
       "      <th>3</th>\n",
       "      <td>489434</td>\n",
       "      <td>22041</td>\n",
       "      <td>RECORD FRAME 7\" SINGLE SIZE</td>\n",
       "      <td>48</td>\n",
       "      <td>2009-12-01 07:45:00</td>\n",
       "      <td>2.10</td>\n",
       "      <td>13085.0</td>\n",
       "      <td>United Kingdom</td>\n",
       "    </tr>\n",
       "    <tr>\n",
       "      <th>4</th>\n",
       "      <td>489434</td>\n",
       "      <td>21232</td>\n",
       "      <td>STRAWBERRY CERAMIC TRINKET BOX</td>\n",
       "      <td>24</td>\n",
       "      <td>2009-12-01 07:45:00</td>\n",
       "      <td>1.25</td>\n",
       "      <td>13085.0</td>\n",
       "      <td>United Kingdom</td>\n",
       "    </tr>\n",
       "  </tbody>\n",
       "</table>\n",
       "</div>"
      ],
      "text/plain": [
       "  Invoice StockCode                          Description  Quantity  \\\n",
       "0  489434     85048  15CM CHRISTMAS GLASS BALL 20 LIGHTS        12   \n",
       "1  489434    79323P                   PINK CHERRY LIGHTS        12   \n",
       "2  489434    79323W                  WHITE CHERRY LIGHTS        12   \n",
       "3  489434     22041         RECORD FRAME 7\" SINGLE SIZE         48   \n",
       "4  489434     21232       STRAWBERRY CERAMIC TRINKET BOX        24   \n",
       "\n",
       "           InvoiceDate  Price  Customer ID         Country  \n",
       "0  2009-12-01 07:45:00   6.95      13085.0  United Kingdom  \n",
       "1  2009-12-01 07:45:00   6.75      13085.0  United Kingdom  \n",
       "2  2009-12-01 07:45:00   6.75      13085.0  United Kingdom  \n",
       "3  2009-12-01 07:45:00   2.10      13085.0  United Kingdom  \n",
       "4  2009-12-01 07:45:00   1.25      13085.0  United Kingdom  "
      ]
     },
     "execution_count": 2,
     "metadata": {},
     "output_type": "execute_result"
    }
   ],
   "source": [
    "df = pd.read_csv('./datasets/online_retail_II.csv')\n",
    "df.head()"
   ]
  },
  {
   "cell_type": "markdown",
   "metadata": {},
   "source": [
    "Информация об атрибутах:\n",
    "\n",
    "- `Invoice`: Номер счета-фактуры. 6-значное целое число, уникально присваиваемое каждой транзакции. Если этот код начинается с буквы \"c\", это означает отмену транзакции. Номинальное.\n",
    "\n",
    "- `StockCode`: Код продукта (товара). 5-значное целое число, уникальное для каждого отдельного товара. Номинальное.\n",
    "\n",
    "- `Description` (описание): Название продукта (товара). Номинальное.\n",
    "\n",
    "- `Quantity`: Количество каждого продукта (товара) в одной транзакции. Числовое значение.\n",
    "\n",
    "- `InvoiceDate`: дата и время выставления счета. Числовое значение. День и время, когда была сделана транзакция.\n",
    "\n",
    "- `Price`: Цена единицы товара. Числовое значение. Цена продукта за единицу в стерлингах (£).\n",
    "\n",
    "- `Customer ID`: номер клиента. Номинальный. 5-значное целое число, уникальное для каждого клиента.\n",
    "\n",
    "- `Country`: Название страны. Номинальное. Название страны, в которой проживает клиент."
   ]
  },
  {
   "cell_type": "code",
   "execution_count": 3,
   "metadata": {},
   "outputs": [
    {
     "name": "stdout",
     "output_type": "stream",
     "text": [
      "<class 'pandas.core.frame.DataFrame'>\n",
      "RangeIndex: 1067371 entries, 0 to 1067370\n",
      "Data columns (total 8 columns):\n",
      " #   Column       Non-Null Count    Dtype  \n",
      "---  ------       --------------    -----  \n",
      " 0   Invoice      1067371 non-null  object \n",
      " 1   StockCode    1067371 non-null  object \n",
      " 2   Description  1062989 non-null  object \n",
      " 3   Quantity     1067371 non-null  int64  \n",
      " 4   InvoiceDate  1067371 non-null  object \n",
      " 5   Price        1067371 non-null  float64\n",
      " 6   Customer ID  824364 non-null   float64\n",
      " 7   Country      1067371 non-null  object \n",
      "dtypes: float64(2), int64(1), object(5)\n",
      "memory usage: 65.1+ MB\n"
     ]
    }
   ],
   "source": [
    "df.info()"
   ]
  },
  {
   "cell_type": "code",
   "execution_count": 4,
   "metadata": {},
   "outputs": [
    {
     "name": "stdout",
     "output_type": "stream",
     "text": [
      "- Кол-во пропусков -\n",
      " Invoice             0\n",
      "StockCode           0\n",
      "Description      4382\n",
      "Quantity            0\n",
      "InvoiceDate         0\n",
      "Price               0\n",
      "Customer ID    243007\n",
      "Country             0\n",
      "dtype: int64\n",
      "\n",
      "- Кол-во отрицательныъ цен -\n",
      " 6207\n"
     ]
    }
   ],
   "source": [
    "print('- Кол-во пропусков -\\n', df.isna().sum())\n",
    "print('\\n- Кол-во отрицательныъ цен -\\n', df[df['Price'] <= 0]['Price'].count())"
   ]
  },
  {
   "cell_type": "markdown",
   "metadata": {},
   "source": [
    "Кол-во пропусков в полях описания и идентификатора клиента не играют никакой роли в выполнении работы, поэтому их можно оставить, чтобы не терять данные. Остальные некорректные значения удаляются."
   ]
  },
  {
   "cell_type": "code",
   "execution_count": 5,
   "metadata": {},
   "outputs": [
    {
     "name": "stdout",
     "output_type": "stream",
     "text": [
      "<class 'pandas.core.frame.DataFrame'>\n",
      "Index: 1061164 entries, 0 to 1067370\n",
      "Data columns (total 8 columns):\n",
      " #   Column       Non-Null Count    Dtype  \n",
      "---  ------       --------------    -----  \n",
      " 0   Invoice      1061164 non-null  object \n",
      " 1   StockCode    1061164 non-null  object \n",
      " 2   Description  1061164 non-null  object \n",
      " 3   Quantity     1061164 non-null  int64  \n",
      " 4   InvoiceDate  1061164 non-null  object \n",
      " 5   Price        1061164 non-null  float64\n",
      " 6   Customer ID  824293 non-null   float64\n",
      " 7   Country      1061164 non-null  object \n",
      "dtypes: float64(2), int64(1), object(5)\n",
      "memory usage: 72.9+ MB\n"
     ]
    }
   ],
   "source": [
    "df = df.loc[df['Price'] > 0]\n",
    "df.info()"
   ]
  },
  {
   "cell_type": "markdown",
   "metadata": {},
   "source": [
    "На основе кол-ва и цены создается новая фича (признак) - `TotalPrice` (итоговая стоимость)."
   ]
  },
  {
   "cell_type": "code",
   "execution_count": 6,
   "metadata": {},
   "outputs": [
    {
     "data": {
      "text/html": [
       "<div>\n",
       "<style scoped>\n",
       "    .dataframe tbody tr th:only-of-type {\n",
       "        vertical-align: middle;\n",
       "    }\n",
       "\n",
       "    .dataframe tbody tr th {\n",
       "        vertical-align: top;\n",
       "    }\n",
       "\n",
       "    .dataframe thead th {\n",
       "        text-align: right;\n",
       "    }\n",
       "</style>\n",
       "<table border=\"1\" class=\"dataframe\">\n",
       "  <thead>\n",
       "    <tr style=\"text-align: right;\">\n",
       "      <th></th>\n",
       "      <th>Invoice</th>\n",
       "      <th>StockCode</th>\n",
       "      <th>Description</th>\n",
       "      <th>Quantity</th>\n",
       "      <th>InvoiceDate</th>\n",
       "      <th>Price</th>\n",
       "      <th>Customer ID</th>\n",
       "      <th>Country</th>\n",
       "    </tr>\n",
       "  </thead>\n",
       "  <tbody>\n",
       "    <tr>\n",
       "      <th>0</th>\n",
       "      <td>489434</td>\n",
       "      <td>85048</td>\n",
       "      <td>15CM CHRISTMAS GLASS BALL 20 LIGHTS</td>\n",
       "      <td>12</td>\n",
       "      <td>2009-12-01 07:45:00</td>\n",
       "      <td>6.95</td>\n",
       "      <td>13085.0</td>\n",
       "      <td>United Kingdom</td>\n",
       "    </tr>\n",
       "    <tr>\n",
       "      <th>1</th>\n",
       "      <td>489434</td>\n",
       "      <td>79323P</td>\n",
       "      <td>PINK CHERRY LIGHTS</td>\n",
       "      <td>12</td>\n",
       "      <td>2009-12-01 07:45:00</td>\n",
       "      <td>6.75</td>\n",
       "      <td>13085.0</td>\n",
       "      <td>United Kingdom</td>\n",
       "    </tr>\n",
       "    <tr>\n",
       "      <th>2</th>\n",
       "      <td>489434</td>\n",
       "      <td>79323W</td>\n",
       "      <td>WHITE CHERRY LIGHTS</td>\n",
       "      <td>12</td>\n",
       "      <td>2009-12-01 07:45:00</td>\n",
       "      <td>6.75</td>\n",
       "      <td>13085.0</td>\n",
       "      <td>United Kingdom</td>\n",
       "    </tr>\n",
       "    <tr>\n",
       "      <th>3</th>\n",
       "      <td>489434</td>\n",
       "      <td>22041</td>\n",
       "      <td>RECORD FRAME 7\" SINGLE SIZE</td>\n",
       "      <td>48</td>\n",
       "      <td>2009-12-01 07:45:00</td>\n",
       "      <td>2.10</td>\n",
       "      <td>13085.0</td>\n",
       "      <td>United Kingdom</td>\n",
       "    </tr>\n",
       "    <tr>\n",
       "      <th>4</th>\n",
       "      <td>489434</td>\n",
       "      <td>21232</td>\n",
       "      <td>STRAWBERRY CERAMIC TRINKET BOX</td>\n",
       "      <td>24</td>\n",
       "      <td>2009-12-01 07:45:00</td>\n",
       "      <td>1.25</td>\n",
       "      <td>13085.0</td>\n",
       "      <td>United Kingdom</td>\n",
       "    </tr>\n",
       "  </tbody>\n",
       "</table>\n",
       "</div>"
      ],
      "text/plain": [
       "  Invoice StockCode                          Description  Quantity  \\\n",
       "0  489434     85048  15CM CHRISTMAS GLASS BALL 20 LIGHTS        12   \n",
       "1  489434    79323P                   PINK CHERRY LIGHTS        12   \n",
       "2  489434    79323W                  WHITE CHERRY LIGHTS        12   \n",
       "3  489434     22041         RECORD FRAME 7\" SINGLE SIZE         48   \n",
       "4  489434     21232       STRAWBERRY CERAMIC TRINKET BOX        24   \n",
       "\n",
       "           InvoiceDate  Price  Customer ID         Country  \n",
       "0  2009-12-01 07:45:00   6.95      13085.0  United Kingdom  \n",
       "1  2009-12-01 07:45:00   6.75      13085.0  United Kingdom  \n",
       "2  2009-12-01 07:45:00   6.75      13085.0  United Kingdom  \n",
       "3  2009-12-01 07:45:00   2.10      13085.0  United Kingdom  \n",
       "4  2009-12-01 07:45:00   1.25      13085.0  United Kingdom  "
      ]
     },
     "execution_count": 6,
     "metadata": {},
     "output_type": "execute_result"
    }
   ],
   "source": [
    "df.head()"
   ]
  },
  {
   "cell_type": "code",
   "execution_count": 9,
   "metadata": {},
   "outputs": [],
   "source": [
    "df['TotalPrice'] = df['Quantity'] * df['Price']\n",
    "\n",
    "grouped_df = df.groupby('StockCode').agg(\n",
    "    total_quantity = ('Quantity', 'sum'),\n",
    "    cnt_quantity = ('Quantity', 'count'),\n",
    "    avg_price = ('TotalPrice', 'mean'),\n",
    "    total_price = ('TotalPrice', 'sum')\n",
    ").reset_index()"
   ]
  },
  {
   "cell_type": "code",
   "execution_count": 10,
   "metadata": {},
   "outputs": [
    {
     "data": {
      "text/html": [
       "<div>\n",
       "<style scoped>\n",
       "    .dataframe tbody tr th:only-of-type {\n",
       "        vertical-align: middle;\n",
       "    }\n",
       "\n",
       "    .dataframe tbody tr th {\n",
       "        vertical-align: top;\n",
       "    }\n",
       "\n",
       "    .dataframe thead th {\n",
       "        text-align: right;\n",
       "    }\n",
       "</style>\n",
       "<table border=\"1\" class=\"dataframe\">\n",
       "  <thead>\n",
       "    <tr style=\"text-align: right;\">\n",
       "      <th></th>\n",
       "      <th>StockCode</th>\n",
       "      <th>total_quantity</th>\n",
       "      <th>cnt_quantity</th>\n",
       "      <th>avg_price</th>\n",
       "      <th>total_price</th>\n",
       "    </tr>\n",
       "  </thead>\n",
       "  <tbody>\n",
       "    <tr>\n",
       "      <th>0</th>\n",
       "      <td>10002</td>\n",
       "      <td>7613</td>\n",
       "      <td>398</td>\n",
       "      <td>15.613945</td>\n",
       "      <td>6214.35</td>\n",
       "    </tr>\n",
       "    <tr>\n",
       "      <th>1</th>\n",
       "      <td>10002R</td>\n",
       "      <td>4</td>\n",
       "      <td>3</td>\n",
       "      <td>6.856667</td>\n",
       "      <td>20.57</td>\n",
       "    </tr>\n",
       "    <tr>\n",
       "      <th>2</th>\n",
       "      <td>10080</td>\n",
       "      <td>315</td>\n",
       "      <td>28</td>\n",
       "      <td>4.617500</td>\n",
       "      <td>129.29</td>\n",
       "    </tr>\n",
       "    <tr>\n",
       "      <th>3</th>\n",
       "      <td>10109</td>\n",
       "      <td>4</td>\n",
       "      <td>1</td>\n",
       "      <td>1.680000</td>\n",
       "      <td>1.68</td>\n",
       "    </tr>\n",
       "    <tr>\n",
       "      <th>4</th>\n",
       "      <td>10120</td>\n",
       "      <td>650</td>\n",
       "      <td>78</td>\n",
       "      <td>1.792308</td>\n",
       "      <td>139.80</td>\n",
       "    </tr>\n",
       "    <tr>\n",
       "      <th>...</th>\n",
       "      <td>...</td>\n",
       "      <td>...</td>\n",
       "      <td>...</td>\n",
       "      <td>...</td>\n",
       "      <td>...</td>\n",
       "    </tr>\n",
       "    <tr>\n",
       "      <th>4927</th>\n",
       "      <td>gift_0001_40</td>\n",
       "      <td>5</td>\n",
       "      <td>5</td>\n",
       "      <td>33.218000</td>\n",
       "      <td>166.09</td>\n",
       "    </tr>\n",
       "    <tr>\n",
       "      <th>4928</th>\n",
       "      <td>gift_0001_50</td>\n",
       "      <td>6</td>\n",
       "      <td>6</td>\n",
       "      <td>42.265000</td>\n",
       "      <td>253.59</td>\n",
       "    </tr>\n",
       "    <tr>\n",
       "      <th>4929</th>\n",
       "      <td>gift_0001_70</td>\n",
       "      <td>1</td>\n",
       "      <td>1</td>\n",
       "      <td>59.570000</td>\n",
       "      <td>59.57</td>\n",
       "    </tr>\n",
       "    <tr>\n",
       "      <th>4930</th>\n",
       "      <td>gift_0001_80</td>\n",
       "      <td>0</td>\n",
       "      <td>2</td>\n",
       "      <td>0.000000</td>\n",
       "      <td>0.00</td>\n",
       "    </tr>\n",
       "    <tr>\n",
       "      <th>4931</th>\n",
       "      <td>m</td>\n",
       "      <td>5</td>\n",
       "      <td>5</td>\n",
       "      <td>3.010000</td>\n",
       "      <td>15.05</td>\n",
       "    </tr>\n",
       "  </tbody>\n",
       "</table>\n",
       "<p>4932 rows × 5 columns</p>\n",
       "</div>"
      ],
      "text/plain": [
       "         StockCode  total_quantity  cnt_quantity  avg_price  total_price\n",
       "0            10002            7613           398  15.613945      6214.35\n",
       "1           10002R               4             3   6.856667        20.57\n",
       "2            10080             315            28   4.617500       129.29\n",
       "3            10109               4             1   1.680000         1.68\n",
       "4            10120             650            78   1.792308       139.80\n",
       "...            ...             ...           ...        ...          ...\n",
       "4927  gift_0001_40               5             5  33.218000       166.09\n",
       "4928  gift_0001_50               6             6  42.265000       253.59\n",
       "4929  gift_0001_70               1             1  59.570000        59.57\n",
       "4930  gift_0001_80               0             2   0.000000         0.00\n",
       "4931             m               5             5   3.010000        15.05\n",
       "\n",
       "[4932 rows x 5 columns]"
      ]
     },
     "execution_count": 10,
     "metadata": {},
     "output_type": "execute_result"
    }
   ],
   "source": [
    "grouped_df"
   ]
  },
  {
   "cell_type": "markdown",
   "metadata": {},
   "source": [
    "Данные стандартизуются"
   ]
  },
  {
   "cell_type": "code",
   "execution_count": 40,
   "metadata": {},
   "outputs": [
    {
     "data": {
      "text/plain": [
       "array([[ 0.96814783,  0.51627047, -0.01178603,  0.18399742],\n",
       "       [-0.39680253, -0.59905265, -0.05791563, -0.31770551],\n",
       "       [-0.34101339, -0.52846257, -0.06971061, -0.30889907],\n",
       "       ...,\n",
       "       [-0.39734069, -0.60469985,  0.21975573, -0.31454647],\n",
       "       [-0.39752008, -0.60187625, -0.09403363, -0.3193717 ],\n",
       "       [-0.39662315, -0.59340544, -0.07817823, -0.31815264]])"
      ]
     },
     "execution_count": 40,
     "metadata": {},
     "output_type": "execute_result"
    }
   ],
   "source": [
    "grouped_df.head()\n",
    "scaler = StandardScaler()\n",
    "\n",
    "X = scaler.fit_transform(train_df[['total_quantity', 'cnt_quantity', 'avg_price', 'total_price']])\n",
    "# X = scaler.fit_transform(grouped_df[['total_price']])\n",
    "X"
   ]
  },
  {
   "cell_type": "markdown",
   "metadata": {},
   "source": [
    "### Реализация самоорганизующейся карта Кохонена (SOM)"
   ]
  },
  {
   "cell_type": "code",
   "execution_count": 41,
   "metadata": {},
   "outputs": [],
   "source": [
    "class KohonenNetwork:\n",
    "    def __init__(self, map_dim, epochs, learning_rate):\n",
    "        self.map_dim = map_dim\n",
    "        self.map = np.random.uniform(0, 1, size=(self.map_dim[0], self.map_dim[1], X.shape[1]))\n",
    "        self.epochs = epochs\n",
    "        self.learning_rate = learning_rate\n",
    "        self.initial_learning_rate = learning_rate\n",
    "        self.initial_radius = max(map_dim) / 2\n",
    "\n",
    "    def compute_variables(self, epoch):\n",
    "        self.radius = self.initial_radius * np.exp(-epoch / (self.epochs / np.log(self.initial_radius)))\n",
    "        self.learning_rate = self.initial_learning_rate * np.exp(-epoch / self.epochs)\n",
    "    \n",
    "    def euclidean_distance(self, a, b):\n",
    "        return np.linalg.norm(a - b)\n",
    "    \n",
    "    def winner(self, x):\n",
    "        distances = np.linalg.norm(self.map - x, axis=2)\n",
    "        return np.unravel_index(np.argmin(distances), distances.shape)\n",
    "\n",
    "    def update_weights(self, x, winner_coords):\n",
    "        for i in range(self.map_dim[0]):\n",
    "            for j in range(self.map_dim[1]):\n",
    "                dist = np.linalg.norm(np.array([i, j]) - np.array(winner_coords))\n",
    "                if dist <= self.radius:\n",
    "                    influence = np.exp(-dist / (2 * (self.radius ** 2)))\n",
    "                    self.map[i][j] += self.learning_rate * influence * (x - self.map[i][j])\n",
    "\n",
    "    def train(self, data):\n",
    "        for epoch in range(self.epochs):\n",
    "            np.random.shuffle(data)\n",
    "            self.compute_variables(epoch)\n",
    "            for x in data:\n",
    "                winner_coords = self.winner(x)\n",
    "                self.update_weights(x, winner_coords)"
   ]
  },
  {
   "cell_type": "code",
   "execution_count": 42,
   "metadata": {},
   "outputs": [],
   "source": [
    "som = KohonenNetwork(map_dim=(10, 10), epochs=100, learning_rate=0.5)\n",
    "som.train(X)"
   ]
  },
  {
   "cell_type": "markdown",
   "metadata": {},
   "source": [
    "### Обучение модели и визуализация"
   ]
  },
  {
   "cell_type": "markdown",
   "metadata": {},
   "source": [
    "Выводится карта расстояний для модели. По ней видно, что большинство кластеров не отличаются друг от друга."
   ]
  },
  {
   "cell_type": "code",
   "execution_count": 43,
   "metadata": {},
   "outputs": [
    {
     "data": {
      "image/png": "[encoded data removed]",
      "text/plain": [
       "<Figure size 1000x800 with 2 Axes>"
      ]
     },
     "metadata": {},
     "output_type": "display_data"
    }
   ],
   "source": [
    "def plot_distance_map(som):\n",
    "    distance_map = np.zeros((som.map_dim[0], som.map_dim[1]))\n",
    "    \n",
    "    for i in range(som.map_dim[0]):\n",
    "        for j in range(som.map_dim[1]):\n",
    "            \n",
    "            distances = []\n",
    "            \n",
    "            if i > 0:\n",
    "                distances.append(som.euclidean_distance(som.map[i][j], som.map[i-1][j]))\n",
    "            if i < som.map_dim[0]-1:\n",
    "                distances.append(som.euclidean_distance(som.map[i][j], som.map[i+1][j]))\n",
    "            if j > 0:\n",
    "                distances.append(som.euclidean_distance(som.map[i][j], som.map[i][j-1]))\n",
    "            if j < som.map_dim[1]-1:\n",
    "                distances.append(som.euclidean_distance(som.map[i][j], som.map[i][j+1]))\n",
    "            \n",
    "            distance_map[i][j] = np.mean(distances) if distances else 0\n",
    "    \n",
    "    plt.figure(figsize=(10, 8))\n",
    "    plt.imshow(distance_map, cmap='gray', interpolation='none')\n",
    "    plt.colorbar()\n",
    "    plt.title('U-Matrix (Distance Map)')\n",
    "    plt.show()\n",
    "\n",
    "plot_distance_map(som)"
   ]
  },
  {
   "cell_type": "markdown",
   "metadata": {},
   "source": [
    "По топографической карте можно сделать вывод, что расстояние между классами не различимо. Модель плохо кластеризовала данные, нужно было брать меньшее кол-во классов, так как определила все объекты как один класс. У нее нет четкого разделения на несколько классов."
   ]
  },
  {
   "cell_type": "markdown",
   "metadata": {},
   "source": [
    "### Сравнение с K-Means"
   ]
  },
  {
   "cell_type": "markdown",
   "metadata": {},
   "source": [
    "Воспользуемся методом локтя для определения наилучшего количества кластеров в модели K-Means."
   ]
  },
  {
   "cell_type": "code",
   "execution_count": 44,
   "metadata": {},
   "outputs": [
    {
     "data": {
      "image/png": "[encoded data removed]",
      "text/plain": [
       "<Figure size 1000x600 with 1 Axes>"
      ]
     },
     "metadata": {},
     "output_type": "display_data"
    }
   ],
   "source": [
    "from sklearn.cluster import KMeans\n",
    "\n",
    "wcss = []\n",
    "k_range = range(1, 11)\n",
    "\n",
    "for k in k_range:\n",
    "    kmeans = KMeans(n_clusters=k, random_state=42, n_init=10)\n",
    "    kmeans.fit(X)\n",
    "    wcss.append(kmeans.inertia_)\n",
    "\n",
    "plt.figure(figsize=(10, 6))\n",
    "plt.plot(k_range, wcss, marker='o', linestyle='--')\n",
    "plt.xlabel('Number of clusters (K)')\n",
    "plt.ylabel('WCSS (Within-Cluster Sum of Squares)')\n",
    "plt.title('Elbow Method for Optimal K')\n",
    "plt.xticks(k_range)\n",
    "plt.grid()\n",
    "plt.show()"
   ]
  },
  {
   "cell_type": "markdown",
   "metadata": {},
   "source": [
    "Было решено разделить данные на 4 кластера. Создается модель k-means с 4 кластерами и считаются метрики ситуэта для каждой "
   ]
  },
  {
   "cell_type": "code",
   "execution_count": 48,
   "metadata": {},
   "outputs": [
    {
     "name": "stdout",
     "output_type": "stream",
     "text": [
      "Silhouette (SOM): 0.18\n",
      "Silhouette (K-Means): 0.78\n"
     ]
    }
   ],
   "source": [
    "from sklearn.metrics import silhouette_score\n",
    "import numpy as np\n",
    "\n",
    "winners = np.array([som.winner(x) for x in X])\n",
    "\n",
    "som_clusters = winners[:, 0] * som.map_dim[1] + winners[:, 1]\n",
    "unique_labels = np.unique(som_clusters)\n",
    "som_clusters = np.searchsorted(unique_labels, som_clusters)\n",
    "\n",
    "print(f\"Silhouette (SOM): {silhouette_score(X, som_clusters):.2f}\")\n",
    "\n",
    "kmeans = KMeans(n_clusters=4, random_state=42)\n",
    "kmeans_clusters = kmeans.fit_predict(X)\n",
    "print(f\"Silhouette (K-Means): {silhouette_score(X, kmeans_clusters):.2f}\")"
   ]
  },
  {
   "cell_type": "markdown",
   "metadata": {},
   "source": [
    "Далее используется PCA, чтобы визуализировать многомерные данные в 2D, сохраняя максимальную информацию о структуре данных. Это позволяет наглядно сравнить, как разные методы кластеризации (SOM и K-Means) разделяют данные пространстве"
   ]
  },
  {
   "cell_type": "code",
   "execution_count": 52,
   "metadata": {},
   "outputs": [
    {
     "data": {
      "image/png": "[encoded data removed]",
      "text/plain": [
       "<Figure size 1400x600 with 2 Axes>"
      ]
     },
     "metadata": {},
     "output_type": "display_data"
    }
   ],
   "source": [
    "from sklearn.decomposition import PCA\n",
    "\n",
    "pca = PCA(n_components=2)\n",
    "X_pca = pca.fit_transform(X)\n",
    "\n",
    "winners = np.array([som.winner(x) for x in X])\n",
    "som_clusters = winners[:, 0] * som.map_dim[1] + winners[:, 1]\n",
    "som_clusters = np.searchsorted(np.unique(som_clusters), som_clusters)\n",
    "\n",
    "plt.figure(figsize=(14, 6))\n",
    "\n",
    "plt.subplot(1, 2, 1)\n",
    "plt.scatter(X_pca[:, 0], X_pca[:, 1], c=som_clusters, cmap='viridis', alpha=0.6)\n",
    "plt.title('SOM Clusters in PCA Space')\n",
    "plt.xlabel('PC1 (%.2f%%)' % (pca.explained_variance_ratio_[0]*100))\n",
    "plt.ylabel('PC2 (%.2f%%)' % (pca.explained_variance_ratio_[1]*100))\n",
    "\n",
    "plt.subplot(1, 2, 2)\n",
    "plt.scatter(X_pca[:, 0], X_pca[:, 1], c=kmeans_clusters, cmap='viridis', alpha=0.6)\n",
    "plt.title('K-Means Clusters in PCA Space')\n",
    "plt.xlabel('PC1 (%.2f%%)' % (pca.explained_variance_ratio_[0]*100))\n",
    "plt.ylabel('PC2 (%.2f%%)' % (pca.explained_variance_ratio_[1]*100))\n",
    "\n",
    "plt.tight_layout()\n",
    "plt.show()\n"
   ]
  },
  {
   "cell_type": "markdown",
   "metadata": {},
   "source": [
    "На диаграмме K-Means можно однозначно определить классы и понять, по какой логике модель их разделяла. С SOM ситуация иначе, классы смешаны между собой и объекты внутри одних классов находятся ближе к объектам других классов, чем к своим, что говорит о плохой кластеризации."
   ]
  },
  {
   "cell_type": "markdown",
   "metadata": {},
   "source": [
    "### Прочее"
   ]
  },
  {
   "cell_type": "markdown",
   "metadata": {},
   "source": [
    "В ходе выполнения работы были изучены принципы работы самоорганизующихся карт Кохонена (SOM) реализовать модель и провести эксперименты на данных.\n",
    "\n",
    "Исследование показало, что для кластеризации данных о покупках K-Means с 4 кластерами оказался эффективнее самоорганизующихся карт Кохонена (SOM). Несмотря на успешное выделение кластеров в SOM (10×10), их количество оказалось избыточным - многие нейроны были слишком схожи, что подтверждается низким коэффициентом силуэт. K-Means обеспечил более четкое разделение на логичные группы товаров с лучшим показателем силуэта, что делает его предпочтительным выбором для данной задачи. Оптимизация размера SOM могла бы улучшить результаты.\n",
    "Таким образом, использование SOM в данной задаче не привело к значительному улучшению кластеризации"
   ]
  }
 ],
 "metadata": {
  "kaggle": {
   "accelerator": "none",
   "dataSources": [],
   "dockerImageVersionId": 30822,
   "isGpuEnabled": false,
   "isInternetEnabled": false,
   "language": "python",
   "sourceType": "notebook"
  },
  "kernelspec": {
   "display_name": "Python 3 (ipykernel)",
   "language": "python",
   "name": "python3"
  },
  "language_info": {
   "codemirror_mode": {
    "name": "ipython",
    "version": 3
   },
   "file_extension": ".py",
   "mimetype": "text/x-python",
   "name": "python",
   "nbconvert_exporter": "python",
   "pygments_lexer": "ipython3",
   "version": "3.12.1"
  }
 },
 "nbformat": 4,
 "nbformat_minor": 4
}
