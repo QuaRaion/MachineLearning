{
 "cells": [
  {
   "cell_type": "markdown",
   "metadata": {},
   "source": [
    "# Самоорганизующиеся карты Кохонена (SOM)"
   ]
  },
  {
   "cell_type": "markdown",
   "metadata": {},
   "source": [
    "### Цель работы"
   ]
  },
  {
   "cell_type": "markdown",
   "metadata": {},
   "source": [
    "Изучить принципы работы самоорганизующихся карт Кохонена (SOM), реализовать модель и провести эксперименты на данных\n",
    "\n",
    "---"
   ]
  },
  {
   "cell_type": "markdown",
   "metadata": {},
   "source": [
    "### Постановка задачи"
   ]
  },
  {
   "cell_type": "markdown",
   "metadata": {},
   "source": [
    "**Кластеризация товаров по характеристикам**\n",
    "\n",
    "Датасет: \"Online Retail\" (данные о продажах интернет-магазина, включая информацию о товарах, количестве покупок и категориях).\n",
    "\n",
    "Задание:\n",
    "1. Ознакомиться с принципами работы SOM.\n",
    "2. Подготовить и предобработать датасет, выявить основные группы товаров по их характеристикам\n",
    "3. Реализовать самоорганизующуюся карту Кохонена размером `10x10`.\n",
    "4. Обучить SOM на выбранном датасете, настроив гиперпараметры (размер шага, радиус соседства).\n",
    "5. Визуализировать результаты в виде топографической карты и цветовой карты кластеров.\n",
    "6. Сравнить кластеры SOM с результатами K-Means кластеризации и оценить качество кластеризации.\n",
    "7. Сделать качественный и количественный вывод по выполненной работе.\n",
    "\n",
    "---"
   ]
  },
  {
   "cell_type": "markdown",
   "metadata": {},
   "source": [
    "## Результат выполнения работы"
   ]
  },
  {
   "cell_type": "markdown",
   "metadata": {},
   "source": [
    "### Выгрузка и анализ данных"
   ]
  },
  {
   "cell_type": "code",
   "execution_count": 25,
   "metadata": {},
   "outputs": [],
   "source": [
    "import numpy as np\n",
    "import pandas as pd\n",
    "import matplotlib.pyplot as plt\n",
    "from sklearn.cluster import KMeans"
   ]
  },
  {
   "cell_type": "code",
   "execution_count": 4,
   "metadata": {},
   "outputs": [
    {
     "data": {
      "text/html": [
       "<div>\n",
       "<style scoped>\n",
       "    .dataframe tbody tr th:only-of-type {\n",
       "        vertical-align: middle;\n",
       "    }\n",
       "\n",
       "    .dataframe tbody tr th {\n",
       "        vertical-align: top;\n",
       "    }\n",
       "\n",
       "    .dataframe thead th {\n",
       "        text-align: right;\n",
       "    }\n",
       "</style>\n",
       "<table border=\"1\" class=\"dataframe\">\n",
       "  <thead>\n",
       "    <tr style=\"text-align: right;\">\n",
       "      <th></th>\n",
       "      <th>Invoice</th>\n",
       "      <th>StockCode</th>\n",
       "      <th>Description</th>\n",
       "      <th>Quantity</th>\n",
       "      <th>InvoiceDate</th>\n",
       "      <th>Price</th>\n",
       "      <th>Customer ID</th>\n",
       "      <th>Country</th>\n",
       "    </tr>\n",
       "  </thead>\n",
       "  <tbody>\n",
       "    <tr>\n",
       "      <th>0</th>\n",
       "      <td>489434</td>\n",
       "      <td>85048</td>\n",
       "      <td>15CM CHRISTMAS GLASS BALL 20 LIGHTS</td>\n",
       "      <td>12</td>\n",
       "      <td>2009-12-01 07:45:00</td>\n",
       "      <td>6.95</td>\n",
       "      <td>13085.0</td>\n",
       "      <td>United Kingdom</td>\n",
       "    </tr>\n",
       "    <tr>\n",
       "      <th>1</th>\n",
       "      <td>489434</td>\n",
       "      <td>79323P</td>\n",
       "      <td>PINK CHERRY LIGHTS</td>\n",
       "      <td>12</td>\n",
       "      <td>2009-12-01 07:45:00</td>\n",
       "      <td>6.75</td>\n",
       "      <td>13085.0</td>\n",
       "      <td>United Kingdom</td>\n",
       "    </tr>\n",
       "    <tr>\n",
       "      <th>2</th>\n",
       "      <td>489434</td>\n",
       "      <td>79323W</td>\n",
       "      <td>WHITE CHERRY LIGHTS</td>\n",
       "      <td>12</td>\n",
       "      <td>2009-12-01 07:45:00</td>\n",
       "      <td>6.75</td>\n",
       "      <td>13085.0</td>\n",
       "      <td>United Kingdom</td>\n",
       "    </tr>\n",
       "    <tr>\n",
       "      <th>3</th>\n",
       "      <td>489434</td>\n",
       "      <td>22041</td>\n",
       "      <td>RECORD FRAME 7\" SINGLE SIZE</td>\n",
       "      <td>48</td>\n",
       "      <td>2009-12-01 07:45:00</td>\n",
       "      <td>2.10</td>\n",
       "      <td>13085.0</td>\n",
       "      <td>United Kingdom</td>\n",
       "    </tr>\n",
       "    <tr>\n",
       "      <th>4</th>\n",
       "      <td>489434</td>\n",
       "      <td>21232</td>\n",
       "      <td>STRAWBERRY CERAMIC TRINKET BOX</td>\n",
       "      <td>24</td>\n",
       "      <td>2009-12-01 07:45:00</td>\n",
       "      <td>1.25</td>\n",
       "      <td>13085.0</td>\n",
       "      <td>United Kingdom</td>\n",
       "    </tr>\n",
       "  </tbody>\n",
       "</table>\n",
       "</div>"
      ],
      "text/plain": [
       "  Invoice StockCode                          Description  Quantity  \\\n",
       "0  489434     85048  15CM CHRISTMAS GLASS BALL 20 LIGHTS        12   \n",
       "1  489434    79323P                   PINK CHERRY LIGHTS        12   \n",
       "2  489434    79323W                  WHITE CHERRY LIGHTS        12   \n",
       "3  489434     22041         RECORD FRAME 7\" SINGLE SIZE         48   \n",
       "4  489434     21232       STRAWBERRY CERAMIC TRINKET BOX        24   \n",
       "\n",
       "           InvoiceDate  Price  Customer ID         Country  \n",
       "0  2009-12-01 07:45:00   6.95      13085.0  United Kingdom  \n",
       "1  2009-12-01 07:45:00   6.75      13085.0  United Kingdom  \n",
       "2  2009-12-01 07:45:00   6.75      13085.0  United Kingdom  \n",
       "3  2009-12-01 07:45:00   2.10      13085.0  United Kingdom  \n",
       "4  2009-12-01 07:45:00   1.25      13085.0  United Kingdom  "
      ]
     },
     "execution_count": 4,
     "metadata": {},
     "output_type": "execute_result"
    }
   ],
   "source": [
    "df = pd.read_csv('./datasets/online_retail_II.csv')\n",
    "df.head()"
   ]
  },
  {
   "cell_type": "markdown",
   "metadata": {},
   "source": [
    "Информация об атрибутах:\n",
    "\n",
    "- `Invoice`: Номер счета-фактуры. 6-значное целое число, уникально присваиваемое каждой транзакции. Если этот код начинается с буквы \"c\", это означает отмену транзакции. Номинальное.\n",
    "\n",
    "- `StockCode`: Код продукта (товара). 5-значное целое число, уникальное для каждого отдельного товара. Номинальное.\n",
    "\n",
    "- `Description` (описание): Название продукта (товара). Номинальное.\n",
    "\n",
    "- `Quantity`: Количество каждого продукта (товара) в одной транзакции. Числовое значение.\n",
    "\n",
    "- `InvoiceDate`: дата и время выставления счета. Числовое значение. День и время, когда была сделана транзакция.\n",
    "\n",
    "- `Price`: Цена единицы товара. Числовое значение. Цена продукта за единицу в стерлингах (£).\n",
    "\n",
    "- `Customer ID`: номер клиента. Номинальный. 5-значное целое число, уникальное для каждого клиента.\n",
    "\n",
    "- `Country`: Название страны. Номинальное. Название страны, в которой проживает клиент."
   ]
  },
  {
   "cell_type": "code",
   "execution_count": 5,
   "metadata": {},
   "outputs": [
    {
     "name": "stdout",
     "output_type": "stream",
     "text": [
      "<class 'pandas.core.frame.DataFrame'>\n",
      "RangeIndex: 1067371 entries, 0 to 1067370\n",
      "Data columns (total 8 columns):\n",
      " #   Column       Non-Null Count    Dtype  \n",
      "---  ------       --------------    -----  \n",
      " 0   Invoice      1067371 non-null  object \n",
      " 1   StockCode    1067371 non-null  object \n",
      " 2   Description  1062989 non-null  object \n",
      " 3   Quantity     1067371 non-null  int64  \n",
      " 4   InvoiceDate  1067371 non-null  object \n",
      " 5   Price        1067371 non-null  float64\n",
      " 6   Customer ID  824364 non-null   float64\n",
      " 7   Country      1067371 non-null  object \n",
      "dtypes: float64(2), int64(1), object(5)\n",
      "memory usage: 65.1+ MB\n"
     ]
    }
   ],
   "source": [
    "df.info()"
   ]
  },
  {
   "cell_type": "code",
   "execution_count": 6,
   "metadata": {},
   "outputs": [
    {
     "data": {
      "text/plain": [
       "Invoice             0\n",
       "StockCode           0\n",
       "Description      4382\n",
       "Quantity            0\n",
       "InvoiceDate         0\n",
       "Price               0\n",
       "Customer ID    243007\n",
       "Country             0\n",
       "dtype: int64"
      ]
     },
     "execution_count": 6,
     "metadata": {},
     "output_type": "execute_result"
    }
   ],
   "source": [
    "df.isna().sum()"
   ]
  },
  {
   "cell_type": "code",
   "execution_count": 13,
   "metadata": {},
   "outputs": [
    {
     "data": {
      "text/plain": [
       "5305"
      ]
     },
     "execution_count": 13,
     "metadata": {},
     "output_type": "execute_result"
    }
   ],
   "source": [
    "len(df.StockCode.unique())"
   ]
  },
  {
   "cell_type": "code",
   "execution_count": 29,
   "metadata": {},
   "outputs": [],
   "source": [
    "from sklearn.preprocessing import StandardScaler, MinMaxScaler\n",
    "from sklearn.metrics import silhouette_score\n",
    "\n",
    "# Предобработка данных\n",
    "df = df.dropna()\n",
    "df = df[df['Quantity'] > 0]\n",
    "df['TotalPrice'] = df['Quantity'] * df['Price']\n",
    "\n",
    "# Агрегация данных по товарам\n",
    "product_features = df.groupby('StockCode').agg({\n",
    "    'Quantity': ['sum', 'mean', 'count'],\n",
    "    'Price': 'mean',\n",
    "    'TotalPrice': 'sum'\n",
    "}).reset_index()\n",
    "product_features.columns = ['StockCode', 'TotalQuantity', 'AvgQuantity', \n",
    "                          'PurchaseCount', 'AvgPrice', 'TotalRevenue']\n",
    "\n",
    "# Нормализация данных\n",
    "scaler = StandardScaler()\n",
    "X = scaler.fit_transform(product_features[['TotalQuantity', 'AvgQuantity', \n",
    "                                         'PurchaseCount', 'AvgPrice', 'TotalRevenue']])"
   ]
  },
  {
   "cell_type": "markdown",
   "metadata": {},
   "source": [
    "### Реализация самоорганизующейся карта Кохонена (SOM)"
   ]
  },
  {
   "cell_type": "code",
   "execution_count": 30,
   "metadata": {},
   "outputs": [],
   "source": [
    "class KohonenNetwork:\n",
    "    def __init__(self, map_dim, epochs, learning_rate):\n",
    "        self.map_dim = map_dim\n",
    "        self.map = np.random.uniform(0, 1, size=(self.map_dim[0], self.map_dim[1], X.shape[1]))\n",
    "        self.epochs = epochs\n",
    "        self.learning_rate = learning_rate\n",
    "        self.initial_learning_rate = learning_rate\n",
    "        self.initial_radius = max(map_dim) / 2\n",
    "\n",
    "    def compute_variables(self, epoch):\n",
    "        self.radius = self.initial_radius * np.exp(-epoch / (self.epochs / np.log(self.initial_radius)))\n",
    "        self.learning_rate = self.initial_learning_rate * np.exp(-epoch / self.epochs)\n",
    "    \n",
    "    def euclidean_distance(self, a, b):\n",
    "        return np.linalg.norm(a - b)\n",
    "    \n",
    "    def winner(self, x):\n",
    "        distances = np.linalg.norm(self.map - x, axis=2)\n",
    "        return np.unravel_index(np.argmin(distances), distances.shape)\n",
    "\n",
    "    def update_weights(self, x, winner_coords):\n",
    "        for i in range(self.map_dim[0]):\n",
    "            for j in range(self.map_dim[1]):\n",
    "                dist = np.linalg.norm(np.array([i, j]) - np.array(winner_coords))\n",
    "                if dist <= self.radius:\n",
    "                    influence = np.exp(-dist / (2 * (self.radius ** 2)))\n",
    "                    self.map[i][j] += self.learning_rate * influence * (x - self.map[i][j])\n",
    "\n",
    "    def train(self, data):\n",
    "        for epoch in range(self.epochs):\n",
    "            np.random.shuffle(data)\n",
    "            self.compute_variables(epoch)\n",
    "            for x in data:\n",
    "                winner_coords = self.winner(x)\n",
    "                self.update_weights(x, winner_coords)"
   ]
  },
  {
   "cell_type": "markdown",
   "metadata": {},
   "source": [
    "### Обучение модели и визуализация"
   ]
  },
  {
   "cell_type": "code",
   "execution_count": 31,
   "metadata": {},
   "outputs": [
    {
     "data": {
      "image/png": "[encoded data removed]",
      "text/plain": [
       "<Figure size 1200x1000 with 2 Axes>"
      ]
     },
     "metadata": {},
     "output_type": "display_data"
    }
   ],
   "source": [
    "# Инициализация и обучение SOM\n",
    "som = KohonenNetwork(map_dim=(10, 10), epochs=100, learning_rate=0.5)\n",
    "som.train(X)\n",
    "\n",
    "# Визуализация карты\n",
    "plt.figure(figsize=(12, 10))\n",
    "plt.imshow(som.map[:, :, 0], cmap='viridis')  # Показываем один из признаков\n",
    "plt.colorbar()\n",
    "plt.title('SOM: TotalQuantity')\n",
    "plt.show()\n",
    "\n",
    "# Назначение кластеров\n",
    "def assign_clusters(data, som):\n",
    "    clusters = np.zeros((data.shape[0], 2))\n",
    "    for i, x in enumerate(data):\n",
    "        clusters[i] = som.winner(x)\n",
    "    return clusters\n",
    "\n",
    "som_clusters = assign_clusters(X, som)"
   ]
  },
  {
   "cell_type": "markdown",
   "metadata": {},
   "source": [
    "### Сравнение с K-Means"
   ]
  },
  {
   "cell_type": "code",
   "execution_count": 32,
   "metadata": {},
   "outputs": [
    {
     "name": "stdout",
     "output_type": "stream",
     "text": [
      "Silhouette Score (SOM): 0.2012089432339605\n",
      "Silhouette Score (K-Means): 0.5404149148442925\n"
     ]
    },
    {
     "data": {
      "image/png": "[encoded data removed]",
      "text/plain": [
       "<Figure size 1000x600 with 1 Axes>"
      ]
     },
     "metadata": {},
     "output_type": "display_data"
    }
   ],
   "source": [
    "# Кластеризация K-Means\n",
    "kmeans = KMeans(n_clusters=10, random_state=42)\n",
    "kmeans_clusters = kmeans.fit_predict(X)\n",
    "\n",
    "# Оценка качества\n",
    "print(f\"Silhouette Score (SOM): {silhouette_score(X, som_clusters[:, 0]*10 + som_clusters[:, 1])}\")\n",
    "print(f\"Silhouette Score (K-Means): {silhouette_score(X, kmeans_clusters)}\")\n",
    "\n",
    "# Визуализация кластеров K-Means\n",
    "plt.figure(figsize=(10, 6))\n",
    "plt.scatter(X[:, 0], X[:, 1], c=kmeans_clusters, cmap='tab20')\n",
    "plt.title('K-Means Clustering')\n",
    "plt.show()"
   ]
  },
  {
   "cell_type": "code",
   "execution_count": null,
   "metadata": {},
   "outputs": [],
   "source": []
  },
  {
   "cell_type": "code",
   "execution_count": null,
   "metadata": {},
   "outputs": [],
   "source": []
  },
  {
   "cell_type": "markdown",
   "metadata": {
    "jp-MarkdownHeadingCollapsed": true
   },
   "source": [
    "### Прочее"
   ]
  },
  {
   "cell_type": "code",
   "execution_count": 14,
   "metadata": {},
   "outputs": [],
   "source": [
    "data = np.random.randint(0, 256, (100, 3), dtype=int)\n",
    "data = data / 255.0"
   ]
  },
  {
   "cell_type": "code",
   "execution_count": 21,
   "metadata": {
    "jupyter": {
     "source_hidden": true
    }
   },
   "outputs": [],
   "source": [
    "# class KohonenNetwork:\n",
    "#     def __init__(self, map_dim, epochs, learning_rate):\n",
    "#         self.map_dim = map_dim\n",
    "#         self.map = np.random.uniform(0, 1, size=(self.map_dim[0], self.map_dim[1], 3))\n",
    "#         self.epochs = epochs\n",
    "#         self.learning_rate = learning_rate\n",
    "#         self.initial_learning_rate = learning_rate\n",
    "\n",
    "#     def compute_variables(self, epoch=0):\n",
    "#         self.radius = self.map_dim[0] / 2 * (1 - epoch / self.epochs)\n",
    "#         self.learning_rate = self.initial_learning_rate * (1 - epoch / self.epochs)\n",
    "\n",
    "#     def euclidean_distance(self, a, b):\n",
    "#         return np.linalg.norm(a - b)\n",
    "    \n",
    "#     def winner(self, x):\n",
    "#         min_dist = float('inf')\n",
    "#         winner_coords = (0, 0)\n",
    "#         for i in range(self.map_dim[0]):\n",
    "#             for j in range(self.map_dim[1]):\n",
    "#                 dist = self.euclidean_distance(self.map[i][j], x)\n",
    "#                 if dist < min_dist:\n",
    "#                     min_dist = dist\n",
    "#                     winner_coords = (i, j)\n",
    "                    \n",
    "#         return winner_coords\n",
    "\n",
    "#     def update_weights(self, x, winner_coords):\n",
    "#         for i in range(self.map_dim[0]):\n",
    "#             for j in range(self.map_dim[1]):\n",
    "#                 dist = self.euclidean_distance(np.array([i, j]), np.array(winner_coords))\n",
    "#                 if dist < self.radius:\n",
    "#                     influence = np.exp(-dist / (2 * (self.radius ** 2)))\n",
    "#                     self.map[i][j] += self.learning_rate * influence * (x - self.map[i][j])\n",
    "\n",
    "#     def train(self, data):\n",
    "#         n = len(data)\n",
    "#         for epoch in range(self.epochs):\n",
    "#             self.compute_variables(epoch)\n",
    "#             winner_coords = self.winner(data[epoch % n])\n",
    "#             self.update_weights(data[epoch % n], winner_coords)"
   ]
  },
  {
   "cell_type": "markdown",
   "metadata": {
    "jp-MarkdownHeadingCollapsed": true
   },
   "source": [
    "#### Train"
   ]
  },
  {
   "cell_type": "code",
   "execution_count": 16,
   "metadata": {},
   "outputs": [],
   "source": [
    "som = KohonenNetwork(map_dim=(10, 10), epochs=3000, learning_rate=0.01)"
   ]
  },
  {
   "cell_type": "code",
   "execution_count": 17,
   "metadata": {},
   "outputs": [],
   "source": [
    "map_before_train = som.map.copy()"
   ]
  },
  {
   "cell_type": "code",
   "execution_count": 18,
   "metadata": {},
   "outputs": [],
   "source": [
    "som.train(data)"
   ]
  },
  {
   "cell_type": "code",
   "execution_count": 19,
   "metadata": {},
   "outputs": [],
   "source": [
    "map_after_train = som.map.copy()"
   ]
  },
  {
   "cell_type": "markdown",
   "metadata": {
    "jp-MarkdownHeadingCollapsed": true
   },
   "source": [
    "#### Results"
   ]
  },
  {
   "cell_type": "code",
   "execution_count": 20,
   "metadata": {},
   "outputs": [
    {
     "data": {
      "image/png": "[encoded data removed]",
      "text/plain": [
       "<Figure size 1000x500 with 2 Axes>"
      ]
     },
     "metadata": {},
     "output_type": "display_data"
    }
   ],
   "source": [
    "fig, axs = plt.subplots(nrows=1, ncols=2, figsize=(10, 5))\n",
    "\n",
    "axs[0].imshow(map_before_train)\n",
    "axs[0].set_title(\"Map Before Train\")\n",
    "axs[0].axis(\"off\")\n",
    "\n",
    "axs[1].imshow(map_after_train)\n",
    "axs[1].set_title(\"Map After Train\")\n",
    "axs[1].axis(\"off\")\n",
    "\n",
    "plt.show()"
   ]
  },
  {
   "cell_type": "markdown",
   "metadata": {},
   "source": [
    "---"
   ]
  },
  {
   "cell_type": "markdown",
   "metadata": {
    "jp-MarkdownHeadingCollapsed": true
   },
   "source": [
    "### Выводы\n"
   ]
  },
  {
   "cell_type": "markdown",
   "metadata": {},
   "source": [
    "В ходе выполнения работы были изучены ..."
   ]
  },
  {
   "cell_type": "code",
   "execution_count": null,
   "metadata": {},
   "outputs": [],
   "source": []
  }
 ],
 "metadata": {
  "kaggle": {
   "accelerator": "none",
   "dataSources": [],
   "dockerImageVersionId": 30822,
   "isGpuEnabled": false,
   "isInternetEnabled": false,
   "language": "python",
   "sourceType": "notebook"
  },
  "kernelspec": {
   "display_name": "Python 3 (ipykernel)",
   "language": "python",
   "name": "python3"
  },
  "language_info": {
   "codemirror_mode": {
    "name": "ipython",
    "version": 3
   },
   "file_extension": ".py",
   "mimetype": "text/x-python",
   "name": "python",
   "nbconvert_exporter": "python",
   "pygments_lexer": "ipython3",
   "version": "3.12.1"
  }
 },
 "nbformat": 4,
 "nbformat_minor": 4
}
